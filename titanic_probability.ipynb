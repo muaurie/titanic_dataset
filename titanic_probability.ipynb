{
 "cells": [
  {
   "cell_type": "code",
   "execution_count": 2,
   "id": "5229deae-e6a9-4df9-af5e-3866ceac8eef",
   "metadata": {},
   "outputs": [
    {
     "ename": "NameError",
     "evalue": "name 'df' is not defined",
     "output_type": "error",
     "traceback": [
      "\u001b[0;31m---------------------------------------------------------------------------\u001b[0m",
      "\u001b[0;31mNameError\u001b[0m                                 Traceback (most recent call last)",
      "Cell \u001b[0;32mIn[2], line 5\u001b[0m\n\u001b[1;32m      1\u001b[0m \u001b[38;5;28;01mimport\u001b[39;00m \u001b[38;5;21;01mmatplotlib\u001b[39;00m\u001b[38;5;21;01m.\u001b[39;00m\u001b[38;5;21;01mpyplot\u001b[39;00m \u001b[38;5;28;01mas\u001b[39;00m \u001b[38;5;21;01mplt\u001b[39;00m\n\u001b[1;32m      3\u001b[0m \u001b[38;5;66;03m#was it rlly women and children first?\u001b[39;00m\n\u001b[1;32m      4\u001b[0m \u001b[38;5;66;03m##query for just youths and children\u001b[39;00m\n\u001b[0;32m----> 5\u001b[0m children \u001b[38;5;241m=\u001b[39m df[df[\u001b[38;5;124m'\u001b[39m\u001b[38;5;124mAge\u001b[39m\u001b[38;5;124m'\u001b[39m] \u001b[38;5;241m<\u001b[39m \u001b[38;5;241m16\u001b[39m]\n\u001b[1;32m      6\u001b[0m surviving_children \u001b[38;5;241m=\u001b[39m df[(df[\u001b[38;5;124m'\u001b[39m\u001b[38;5;124mAge\u001b[39m\u001b[38;5;124m'\u001b[39m] \u001b[38;5;241m<\u001b[39m \u001b[38;5;241m16\u001b[39m) \u001b[38;5;241m&\u001b[39m (df[\u001b[38;5;124m'\u001b[39m\u001b[38;5;124mSurvived\u001b[39m\u001b[38;5;124m'\u001b[39m] \u001b[38;5;241m==\u001b[39m \u001b[38;5;241m1\u001b[39m)]\n\u001b[1;32m      7\u001b[0m child_chance_of_survival \u001b[38;5;241m=\u001b[39m surviving_children\u001b[38;5;241m.\u001b[39mshape[\u001b[38;5;241m0\u001b[39m] \u001b[38;5;241m/\u001b[39m children\u001b[38;5;241m.\u001b[39mshape[\u001b[38;5;241m0\u001b[39m]\n",
      "\u001b[0;31mNameError\u001b[0m: name 'df' is not defined"
     ]
    }
   ],
   "source": [
    "import matplotlib.pyplot as plt\n",
    "\n",
    "#was it rlly women and children first?\n",
    "##query for just youths and children\n",
    "children = df[df['Age'] < 16]\n",
    "surviving_children = df[(df['Age'] < 16) & (df['Survived'] == 1)]\n",
    "child_chance_of_survival = surviving_children.shape[0] / children.shape[0]\n",
    "format(child_chance_of_survival, \".0%\")\n",
    "#call hist() to see histograms of ea. feature\n",
    "children.hist()\n",
    "#lifing and dead children in two dataframes\n",
    "living_children = df[(df['Age'] < 16) & (df['Survived'] == 1)]\n",
    "living_children.hist()\n",
    "not_surviving_children = df[(df['Age'] < 16) & (df['Survived'] == 0)]\n",
    "not_surviving_children.hist()\n",
    "#look at likelihood of two seperate populations of survival\n",
    "women_and_children = df[(df['Sex'] == \"female\") or (df['Age'] < 16)]\n",
    "w_a_c_survival_rate = women_and_children['Survived'].value_counts(normalize=True) * 100\n",
    "w_a_c_survival_rate\n",
    "#women probability of survival\n",
    "women = df[(df['Sex'] == 'female') & (df['Age'] > 16)]\n",
    "surviving_women = df[(df['Sex'] == 'female') & (df['Age'] > 16) & (df['Survived'] == 1)]\n",
    "women_chance_of_survival = surviving_women.shape[0] / women.shape[0]\n",
    "format(women_chance_of_survival, \".0%\")\n",
    "#men\n",
    "adult_men = df[(df['Sex'].str.match('male')) & (df['Age'] > 16)]\n",
    "a_m_survival_rate = adult_men['Survived'].value_counts(normalize=True) * 100\n",
    "a_m_survival_rate\n",
    "#men have about 17% chance of survival, and women + child had 71% chance\n",
    "######Women and children had a more than 4x better chance of survival than men.\n",
    "#####call hist()\n",
    "#find out what the men who survived/died were like, see if class, age, or sex matters\n",
    "surviving_men = df[(df['Sex'] == \"male\") & (df['Age'] > 16) & (df['Survived'] == 1)]\n",
    "surviving_men.describe()\n",
    "dead_men = df[(df['Sex'] == \"male\") & (df['Age'] > 16) & (df['Survived'] == 0)]\n",
    "dead_men.describe()\n",
    "#avg sruvival fare for survivors was about double, 46.73/22.56, and class was 1.3/2.4 (survived/dead)\n",
    "#median survivor fare was 261% higher than fare of the median of dead men. \n",
    "#median class of deaths was 3rd class, and median class of survivors was 1st class.\n",
    "#percent of dying for 3rd class\n",
    "third_class_adult_men = df[(df['Sex'] == \"male\") & (df['Age'] > 16) & (df['Pclass'] == 3)]\n",
    "thrird_class_adult_men_survival_rate = third_class_adult_men['Survived'].value_counts(normalize=True) * 100\n",
    "thrird_class_adult_men_survival_rate\n",
    "#12% chance of survival\n",
    "#percent of chance of dying for 1st class\n",
    "first_class_adult_men = df[(df['Sex'] == \"male\") & (df['Age'] > 16) & (df['Pclass'] == 1)]\n",
    "first_class_adult_men_survival_rate = first_class_adult_men['Survived'].value_counts(normalize=True) * 100\n",
    "first_class_adult_men_survival_rate\n",
    "#37 chance of survival\n",
    "#men probability of survival\n",
    "men = df[(df['Sex'] == 'male') & (df['Age'] > 16)]\n",
    "surviving_men = df[(df['Sex'] == 'male') & (df['Age'] > 16) & (df['Survived'] == 1)]\n",
    "men_chance_of_survival = surviving_men.shape[0] / men.shape[0]\n",
    "format(men_chance_of_survival, \".0%\")\n",
    "#who died on the titanic? \n",
    "the_dead = df[df[\"Survived\"] == 0]\n",
    "the_dead.hist()\n",
    "#compare men and women by class with seaborn\n",
    "sn.barplot(x='Pclass', y='Survived', data=women)\n",
    "#wealthy women had almost 100% survival rate\n",
    "#use hue attribute & set data attribute to whole df\n",
    "sn.barplot(x='Pclass', y='Survived', hue=\"Sex\", data=df)\n",
    "#see sex by class\n",
    "sn.barplot(x='Sex', y='Survived', hue=\"Pclass\", data=df)\n",
    "#1st and 2nd class women survived at much higher rates.\n",
    "##graph\n",
    "fig = plt.figure()\n",
    "ax = fig.add_axes([0,0,1,1])\n",
    "x_axis = [\"Children\", \"Women\", \"Men\"]\n",
    "data = [child_chance_of_survival, women_chance_of_survival, men_chance_of_survival]\n",
    "ax.bar(x_axis, data)\n",
    "plt.show()\n",
    "##grown women had the best chance of survivng, children strong and men less.\n",
    "#Less than 1 in 5 men on the Titanic survived.\n",
    "#Almost 4 in 5 women on the Titanic survived.\n",
    "#women had 4x the survival rate of men (more deceptive, other descriptions absolute)\n",
    "\n"
   ]
  },
  {
   "cell_type": "code",
   "execution_count": null,
   "id": "1a61fa1c-ee58-4ea1-a4a8-fae2552de07e",
   "metadata": {},
   "outputs": [],
   "source": []
  },
  {
   "cell_type": "code",
   "execution_count": null,
   "id": "232cecbb-54f5-41ec-905f-a5166995bcf3",
   "metadata": {},
   "outputs": [],
   "source": []
  }
 ],
 "metadata": {
  "kernelspec": {
   "display_name": "Python 3 (ipykernel)",
   "language": "python",
   "name": "python3"
  },
  "language_info": {
   "codemirror_mode": {
    "name": "ipython",
    "version": 3
   },
   "file_extension": ".py",
   "mimetype": "text/x-python",
   "name": "python",
   "nbconvert_exporter": "python",
   "pygments_lexer": "ipython3",
   "version": "3.11.7"
  }
 },
 "nbformat": 4,
 "nbformat_minor": 5
}
