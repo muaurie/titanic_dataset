{
 "cells": [
  {
   "cell_type": "code",
   "execution_count": 8,
   "id": "a8a29058-e4c8-4019-8867-714cf6c8f732",
   "metadata": {},
   "outputs": [
    {
     "name": "stdout",
     "output_type": "stream",
     "text": [
      "Mean Age: 29.69911764705882\n",
      "Median Age: 28.0\n",
      "Standard Dev Age: 14.516321150817317\n"
     ]
    }
   ],
   "source": [
    "import numpy as np\n",
    "import pandas as pd\n",
    "import matplotlib.pyplot as plt\n",
    "import scipy.stats as stats\n",
    "\n",
    "df = pd.read_csv('titanic.csv')\n",
    "def compute_mean(dataset):\n",
    "    # make a sum variable\n",
    "    sum = 0\n",
    "    # loop over the list and add up all total\n",
    "    for t in dataset:\n",
    "        sum = sum + t\n",
    "    # divide the total by the length of the list\n",
    "    mean = sum / len(dataset)\n",
    "    # return the mean\n",
    "    return mean\n",
    "\n",
    "def compute_median(dataset):\n",
    "#sort data\n",
    "    sorted_data = sorted(dataset)\n",
    "    n = len(sorted_data)\n",
    "    if n % 2 != 0:\n",
    "    #check if odd\n",
    "        #if odd, subtract length by 1, divide in half, and take next element\n",
    "        median_index = n//2\n",
    "        median = sorted_data[median_index]\n",
    "    else: \n",
    "    # otherwise, divide dataset in half and take mean of two middling elements\n",
    "        right_index = n//2\n",
    "        left_index = right_index - 1\n",
    "        median = (sorted_data[left_index] + sorted_data[right_index])/2\n",
    "    return median\n",
    "#stretch challenge find sd for the entire series\n",
    "def standard_deviation(series):\n",
    "    mean = np.mean(series)\n",
    "  # Find the squares of all the deviations from the mean\n",
    "    deviations_squared = [(x-mean) ** 2 for x in series]\n",
    "  # Sum the squares of the deviations from the mean\n",
    "    sum_of_deviations_squared = sum(deviations_squared)\n",
    "  # Divide this sum by the total number of data values\n",
    "    variance = sum_of_deviations_squared / len(series)\n",
    "  # Take the squareroot of this quotient\n",
    "    std_dev = np.sqrt(variance)\n",
    "    return std_dev\n",
    "\n",
    "age = df['Age'].dropna() #drop nan values if any\n",
    "age_mean = compute_mean(age)\n",
    "age_median = compute_median(age)\n",
    "age_std = standard_deviation(age)\n",
    "\n",
    "print(\"Mean Age:\", age_mean)\n",
    "print(\"Median Age:\", age_median)\n",
    "print(\"Standard Dev Age:\", age_std)\n"
   ]
  },
  {
   "cell_type": "code",
   "execution_count": null,
   "id": "e0e1fdb5-7327-4b03-8144-dd1bbc079668",
   "metadata": {},
   "outputs": [],
   "source": []
  },
  {
   "cell_type": "code",
   "execution_count": null,
   "id": "aeab8fad-1f54-4048-b1f2-7ed099e2ae81",
   "metadata": {},
   "outputs": [],
   "source": []
  }
 ],
 "metadata": {
  "kernelspec": {
   "display_name": "Python 3 (ipykernel)",
   "language": "python",
   "name": "python3"
  },
  "language_info": {
   "codemirror_mode": {
    "name": "ipython",
    "version": 3
   },
   "file_extension": ".py",
   "mimetype": "text/x-python",
   "name": "python",
   "nbconvert_exporter": "python",
   "pygments_lexer": "ipython3",
   "version": "3.11.7"
  }
 },
 "nbformat": 4,
 "nbformat_minor": 5
}
