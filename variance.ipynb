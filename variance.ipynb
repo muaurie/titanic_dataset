{
 "cells": [
  {
   "cell_type": "code",
   "execution_count": 7,
   "id": "88dd45dd-06fa-478e-a123-e3b8e8d5d573",
   "metadata": {},
   "outputs": [
    {
     "name": "stdout",
     "output_type": "stream",
     "text": [
      "Variance: 1.489795918367347\n",
      "Mean: 7.285714285714286\n",
      "Min: 4\n",
      "Max: 9\n",
      "Range: 5\n",
      "Variance: 458729763.47107434\n",
      "Mean: 242.27272727272728\n",
      "Min: -50349\n",
      "Max: 50023\n",
      "Range: 100372\n",
      "Standard Deviation: 1.2205719636167902\n",
      "Standard Deviation: 1.2205719636167902\n"
     ]
    },
    {
     "ename": "ZeroDivisionError",
     "evalue": "division by zero",
     "output_type": "error",
     "traceback": [
      "\u001b[0;31m---------------------------------------------------------------------------\u001b[0m",
      "\u001b[0;31mZeroDivisionError\u001b[0m                         Traceback (most recent call last)",
      "Cell \u001b[0;32mIn[7], line 45\u001b[0m\n\u001b[1;32m     43\u001b[0m \u001b[38;5;28mprint\u001b[39m(\u001b[38;5;124m\"\u001b[39m\u001b[38;5;124mStandard Deviation:\u001b[39m\u001b[38;5;124m\"\u001b[39m, np\u001b[38;5;241m.\u001b[39mstd(low_variance_1))\n\u001b[1;32m     44\u001b[0m \u001b[38;5;66;03m#\u001b[39;00m\n\u001b[0;32m---> 45\u001b[0m \u001b[38;5;28mprint\u001b[39m(\u001b[38;5;124m\"\u001b[39m\u001b[38;5;124mStandard Deviation:\u001b[39m\u001b[38;5;124m\"\u001b[39m, standard_deviation(high_variance_1))\n\u001b[1;32m     46\u001b[0m \u001b[38;5;28mprint\u001b[39m(\u001b[38;5;124m\"\u001b[39m\u001b[38;5;124mStandard Deviation:\u001b[39m\u001b[38;5;124m\"\u001b[39m, np\u001b[38;5;241m.\u001b[39mstd(high_variance_1))\n",
      "Cell \u001b[0;32mIn[7], line 28\u001b[0m, in \u001b[0;36mstandard_deviation\u001b[0;34m(series)\u001b[0m\n\u001b[1;32m     26\u001b[0m   sum_of_deviations_squared \u001b[38;5;241m=\u001b[39m \u001b[38;5;28msum\u001b[39m(deviations_squared)\n\u001b[1;32m     27\u001b[0m \u001b[38;5;66;03m# Divide this sum by the total number of data values\u001b[39;00m\n\u001b[0;32m---> 28\u001b[0m   variance \u001b[38;5;241m=\u001b[39m sum_of_deviations_squared \u001b[38;5;241m/\u001b[39m\u001b[38;5;28mlen\u001b[39m(series)\n\u001b[1;32m     29\u001b[0m \u001b[38;5;66;03m# Take the squareroot of this quotient\u001b[39;00m\n\u001b[1;32m     30\u001b[0m   std_dev \u001b[38;5;241m=\u001b[39m np\u001b[38;5;241m.\u001b[39msqrt(variance)\n",
      "\u001b[0;31mZeroDivisionError\u001b[0m: division by zero"
     ]
    }
   ],
   "source": [
    "import numpy as np\n",
    "import matplotlib.pyplot as plt\n",
    "\n",
    "\n",
    "variance_1 = [7,8,7,8,9,6,7,7,7,8,9,8,7,4]\n",
    "\n",
    "print(\"Variance:\", np.var(variance_1))\n",
    "print(\"Mean:\", np.mean(variance_1))\n",
    "print(\"Min:\", np.min(variance_1))\n",
    "print(\"Max:\", np.max(variance_1))\n",
    "print(\"Range:\", np.max(variance_1) - np.min(variance_1))\n",
    "\n",
    "variance_2 = [102,2,50023,30,3040,50,20,1,50,-304,-50349]\n",
    "\n",
    "print(\"Variance:\",np.var(variance_2))\n",
    "print(\"Mean:\", np.mean(variance_2))\n",
    "print(\"Min:\", np.min(variance_2))\n",
    "print(\"Max:\", np.max(variance_2))\n",
    "print(\"Range:\", np.max(variance_2) - np.min(variance_2))\n",
    "\n",
    "def standard_deviation(series):\n",
    "    mean = np.mean(series)\n",
    "  # Find the squares of all the deviations from the mean\n",
    "    deviations_squared = [(x-mean) ** 2 for x in series]\n",
    "  # Sum the squares of the deviations from the mean\n",
    "    sum_of_deviations_squared = sum(deviations_squared)\n",
    "  # Divide this sum by the total number of data values\n",
    "    variance = sum_of_deviations_squared /len(series)\n",
    "  # Take the squareroot of this quotient\n",
    "    std_dev = np.sqrt(variance)\n",
    "    return std_dev\n",
    "\n",
    "#define threshold to measure low or high variance\n",
    "threshold = 1000\n",
    "#categorize\n",
    "low_variance_1 = [x for x in variance_1 if abs(x - np.mean(variance_1)) < threshold]\n",
    "high_variance_1 = [x for x in variance_1 if abs(x - np.mean(variance_1)) >= threshold]\n",
    "\n",
    "low_variance_2 = [x for x in variance_2 if abs(x - np.mean(variance_2)) < threshold]\n",
    "high_variance_2 = [x for x in variance_2 if abs(x - np.mean(variance_2)) >= threshold]\n",
    "\n",
    "print(\"Standard Deviation:\", standard_deviation(low_variance_1))\n",
    "print(\"Standard Deviation:\", np.std(low_variance_1))\n",
    "#\n",
    "print(\"Standard Deviation:\", standard_deviation(high_variance_1))\n",
    "print(\"Standard Deviation:\", np.std(high_variance_1))"
   ]
  },
  {
   "cell_type": "code",
   "execution_count": null,
   "id": "b24483e4-d40a-4408-b688-86e14a27f2dd",
   "metadata": {},
   "outputs": [],
   "source": []
  },
  {
   "cell_type": "code",
   "execution_count": null,
   "id": "c5192a17-1900-4692-aeec-8cdc8be36a47",
   "metadata": {},
   "outputs": [],
   "source": []
  },
  {
   "cell_type": "code",
   "execution_count": null,
   "id": "66dfafae-345b-411b-bdfc-0cce72fc6e80",
   "metadata": {},
   "outputs": [],
   "source": []
  }
 ],
 "metadata": {
  "kernelspec": {
   "display_name": "Python 3 (ipykernel)",
   "language": "python",
   "name": "python3"
  },
  "language_info": {
   "codemirror_mode": {
    "name": "ipython",
    "version": 3
   },
   "file_extension": ".py",
   "mimetype": "text/x-python",
   "name": "python",
   "nbconvert_exporter": "python",
   "pygments_lexer": "ipython3",
   "version": "3.11.7"
  }
 },
 "nbformat": 4,
 "nbformat_minor": 5
}
